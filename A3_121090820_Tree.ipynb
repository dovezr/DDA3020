{
 "cells": [
  {
   "cell_type": "code",
   "execution_count": 1,
   "id": "9bdd9696",
   "metadata": {},
   "outputs": [],
   "source": [
    "import numpy as np\n",
    "import pandas as pd\n",
    "import matplotlib.pyplot as plt\n",
    "from sklearn import tree\n",
    "from sklearn.model_selection import train_test_split"
   ]
  },
  {
   "cell_type": "code",
   "execution_count": 2,
   "id": "ecfb134f",
   "metadata": {},
   "outputs": [
    {
     "data": {
      "text/plain": [
       "species               0\n",
       "island                0\n",
       "bill_length_mm        2\n",
       "bill_depth_mm         2\n",
       "flipper_length_mm     2\n",
       "body_mass_g           2\n",
       "sex                  11\n",
       "dtype: int64"
      ]
     },
     "execution_count": 2,
     "metadata": {},
     "output_type": "execute_result"
    }
   ],
   "source": [
    "df = pd.read_csv(r\"C:\\Users\\86180\\Downloads\\penguins.csv\") \n",
    "df.isna().sum()"
   ]
  },
  {
   "cell_type": "code",
   "execution_count": 3,
   "id": "521db419",
   "metadata": {},
   "outputs": [
    {
     "name": "stdout",
     "output_type": "stream",
     "text": [
      "<class 'pandas.core.frame.DataFrame'>\n",
      "RangeIndex: 344 entries, 0 to 343\n",
      "Data columns (total 7 columns):\n",
      " #   Column             Non-Null Count  Dtype  \n",
      "---  ------             --------------  -----  \n",
      " 0   species            344 non-null    object \n",
      " 1   island             344 non-null    object \n",
      " 2   bill_length_mm     342 non-null    float64\n",
      " 3   bill_depth_mm      342 non-null    float64\n",
      " 4   flipper_length_mm  342 non-null    float64\n",
      " 5   body_mass_g        342 non-null    float64\n",
      " 6   sex                333 non-null    object \n",
      "dtypes: float64(4), object(3)\n",
      "memory usage: 18.9+ KB\n"
     ]
    },
    {
     "data": {
      "text/plain": [
       "Index(['species', 'island', 'bill_length_mm', 'bill_depth_mm',\n",
       "       'flipper_length_mm', 'body_mass_g', 'sex'],\n",
       "      dtype='object')"
      ]
     },
     "execution_count": 3,
     "metadata": {},
     "output_type": "execute_result"
    }
   ],
   "source": [
    "df.info()\n",
    "df.columns"
   ]
  },
  {
   "cell_type": "code",
   "execution_count": 4,
   "id": "e3a08d63",
   "metadata": {},
   "outputs": [],
   "source": [
    "df.dropna(inplace=True)"
   ]
  },
  {
   "cell_type": "code",
   "execution_count": 5,
   "id": "f0acdd6b",
   "metadata": {},
   "outputs": [
    {
     "data": {
      "text/plain": [
       "species              0\n",
       "island               0\n",
       "bill_length_mm       0\n",
       "bill_depth_mm        0\n",
       "flipper_length_mm    0\n",
       "body_mass_g          0\n",
       "sex                  0\n",
       "dtype: int64"
      ]
     },
     "execution_count": 5,
     "metadata": {},
     "output_type": "execute_result"
    }
   ],
   "source": [
    "df.isna().sum()"
   ]
  },
  {
   "cell_type": "code",
   "execution_count": 6,
   "id": "d098aef7",
   "metadata": {},
   "outputs": [
    {
     "name": "stdout",
     "output_type": "stream",
     "text": [
      "['Torgersen' 'Biscoe' 'Dream']\n",
      "['Adelie' 'Chinstrap' 'Gentoo']\n",
      "['MALE' 'FEMALE']\n"
     ]
    }
   ],
   "source": [
    "print(df['island'].unique())\n",
    "print(df['species'].unique())\n",
    "print(df['sex'].unique())"
   ]
  },
  {
   "cell_type": "code",
   "execution_count": 7,
   "id": "532b719d",
   "metadata": {},
   "outputs": [
    {
     "data": {
      "image/png": "[encoded data removed]",
      "text/plain": [
       "<Figure size 1008x720 with 7 Axes>"
      ]
     },
     "metadata": {
      "needs_background": "light"
     },
     "output_type": "display_data"
    }
   ],
   "source": [
    "plt.figure(figsize=(14, 10)) \n",
    "sub = [331,332,333,334,335,336,337]\n",
    "statistics = ['species', 'island', 'bill_length_mm', 'bill_depth_mm','flipper_length_mm', 'body_mass_g', 'sex']\n",
    "for i in range(7): \n",
    "    plt.subplot(sub[i])\n",
    "    plt.hist(df[statistics[i]])\n",
    "    plt.ylabel('Frequency')\n",
    "    plt.xlabel(statistics[i])"
   ]
  },
  {
   "cell_type": "code",
   "execution_count": 8,
   "id": "fab47cc2",
   "metadata": {},
   "outputs": [],
   "source": [
    "df['sex'] = df['sex'].map({'MALE': 1,'FEMALE': 0})\n",
    "df['island']=df['island'].map({'Torgersen':2, 'Biscoe':1, 'Dream':0})\n",
    "df['species']=df['species'].map({'Adelie':2, 'Chinstrap':1, 'Gentoo':0})\n",
    "\n",
    "\n",
    "x = df[['island','bill_length_mm','bill_depth_mm','flipper_length_mm','body_mass_g','sex']]\n",
    "y = df[['species']]\n",
    "x_train,x_test,y_train,y_test = train_test_split(x,y,random_state=10,train_size=0.75)"
   ]
  },
  {
   "cell_type": "code",
   "execution_count": 9,
   "id": "aaad1cac",
   "metadata": {},
   "outputs": [
    {
     "name": "stdout",
     "output_type": "stream",
     "text": [
      "when maximum depths is 5, least node sizes is 1:\n",
      "the train accuracy is 1.0, the test accuracy is 0.9642857142857143\n",
      "when maximum depths is 5, least node sizes is 5:\n",
      "the train accuracy is 0.963855421686747, the test accuracy is 0.9404761904761905\n",
      "when maximum depths is 5, least node sizes is 10:\n",
      "the train accuracy is 0.9518072289156626, the test accuracy is 0.9404761904761905\n",
      "when maximum depths is 10, least node sizes is 1:\n",
      "the train accuracy is 1.0, the test accuracy is 0.9761904761904762\n",
      "when maximum depths is 10, least node sizes is 5:\n",
      "the train accuracy is 0.963855421686747, the test accuracy is 0.9523809523809523\n",
      "when maximum depths is 10, least node sizes is 10:\n",
      "the train accuracy is 0.9518072289156626, the test accuracy is 0.9404761904761905\n",
      "when maximum depths is 15, least node sizes is 1:\n",
      "the train accuracy is 1.0, the test accuracy is 0.9761904761904762\n",
      "when maximum depths is 15, least node sizes is 5:\n",
      "the train accuracy is 0.963855421686747, the test accuracy is 0.9523809523809523\n",
      "when maximum depths is 15, least node sizes is 10:\n",
      "the train accuracy is 0.9518072289156626, the test accuracy is 0.9404761904761905\n"
     ]
    }
   ],
   "source": [
    "from sklearn import tree\n",
    "max_depths = [5,10,15]\n",
    "least_node_sizes = [1,5,10]\n",
    "models = []\n",
    "for i in range(len(max_depths)):\n",
    "    for j in range(len(least_node_sizes)):\n",
    "        clf=tree.DecisionTreeClassifier(max_depth = max_depths[i],min_samples_leaf = least_node_sizes[j])\n",
    "        clf.fit(x_train,y_train)\n",
    "        models.append(clf)\n",
    "        train_pre = clf.predict(x_train)\n",
    "        test_pre = clf.predict(x_test)\n",
    "        train_acc = clf.score(x_train,y_train)\n",
    "        test_acc = clf.score(x_test,y_test)\n",
    "#         print(train_pre)\n",
    "#         train_acc = accuracy(train_pre,y_train)\n",
    "#         test_acc = accuracy(test_pre,y_test)\n",
    "        print('when maximum depths is {}, least node sizes is {}:'.format(max_depths[i],least_node_sizes[j]))\n",
    "        print('the train accuracy is {}, the test accuracy is {}'.format(train_acc,test_acc))"
   ]
  },
  {
   "cell_type": "code",
   "execution_count": 10,
   "id": "4cf7df71",
   "metadata": {},
   "outputs": [
    {
     "data": {
      "text/plain": [
       "[Text(209.25000000000003, 195.696, 'X[3] <= 206.5\\ngini = 0.628\\nsamples = 249\\nvalue = [91, 45, 113]'),\n",
       " Text(139.5, 152.208, 'X[1] <= 44.65\\ngini = 0.41\\nsamples = 155\\nvalue = [1, 43, 111]'),\n",
       " Text(83.7, 108.72, 'X[1] <= 42.3\\ngini = 0.084\\nsamples = 114\\nvalue = [0, 5, 109]'),\n",
       " Text(55.800000000000004, 65.232, 'X[2] <= 16.85\\ngini = 0.019\\nsamples = 102\\nvalue = [0, 1, 101]'),\n",
       " Text(27.900000000000002, 21.744, 'gini = 0.18\\nsamples = 10\\nvalue = [0, 1, 9]'),\n",
       " Text(83.7, 21.744, 'gini = 0.0\\nsamples = 92\\nvalue = [0, 0, 92]'),\n",
       " Text(111.60000000000001, 65.232, 'gini = 0.444\\nsamples = 12\\nvalue = [0, 4, 8]'),\n",
       " Text(195.3, 108.72, 'X[4] <= 4000.0\\ngini = 0.138\\nsamples = 41\\nvalue = [1, 38, 2]'),\n",
       " Text(167.4, 65.232, 'gini = 0.0\\nsamples = 29\\nvalue = [0, 29, 0]'),\n",
       " Text(223.20000000000002, 65.232, 'gini = 0.403\\nsamples = 12\\nvalue = [1, 9, 2]'),\n",
       " Text(279.0, 152.208, 'X[2] <= 16.65\\ngini = 0.082\\nsamples = 94\\nvalue = [90, 2, 2]'),\n",
       " Text(251.10000000000002, 108.72, 'gini = 0.0\\nsamples = 84\\nvalue = [84, 0, 0]'),\n",
       " Text(306.90000000000003, 108.72, 'gini = 0.56\\nsamples = 10\\nvalue = [6, 2, 2]')]"
      ]
     },
     "execution_count": 10,
     "metadata": {},
     "output_type": "execute_result"
    },
    {
     "data": {
      "image/png": "[encoded data removed]",
      "text/plain": [
       "<Figure size 432x288 with 1 Axes>"
      ]
     },
     "metadata": {
      "needs_background": "light"
     },
     "output_type": "display_data"
    }
   ],
   "source": [
    "tree.plot_tree(clf)"
   ]
  },
  {
   "cell_type": "code",
   "execution_count": 11,
   "id": "5cafa57a",
   "metadata": {},
   "outputs": [
    {
     "name": "stdout",
     "output_type": "stream",
     "text": [
      "when maximum depths is 5, the number of tree is 5:\n",
      "the train accuracy is 1.0, the test accuracy is 0.9642857142857143\n",
      "when maximum depths is 5, the number of tree is 10:\n",
      "the train accuracy is 0.9959839357429718, the test accuracy is 0.9880952380952381\n",
      "when maximum depths is 5, the number of tree is 15:\n",
      "the train accuracy is 1.0, the test accuracy is 0.9880952380952381\n",
      "when maximum depths is 10, the number of tree is 5:\n",
      "the train accuracy is 1.0, the test accuracy is 0.9642857142857143\n",
      "when maximum depths is 10, the number of tree is 10:\n",
      "the train accuracy is 0.9959839357429718, the test accuracy is 0.9880952380952381\n",
      "when maximum depths is 10, the number of tree is 15:\n",
      "the train accuracy is 1.0, the test accuracy is 0.9880952380952381\n",
      "when maximum depths is 15, the number of tree is 5:\n",
      "the train accuracy is 1.0, the test accuracy is 0.9880952380952381\n",
      "when maximum depths is 15, the number of tree is 10:\n",
      "the train accuracy is 1.0, the test accuracy is 0.9880952380952381\n",
      "when maximum depths is 15, the number of tree is 15:\n",
      "the train accuracy is 1.0, the test accuracy is 1.0\n"
     ]
    }
   ],
   "source": [
    "from sklearn.ensemble import BaggingClassifier\n",
    "import warnings\n",
    "number=[5,10,15]\n",
    "warnings.filterwarnings(\"ignore\")\n",
    "for i in range(len(max_depths)):\n",
    "    for j in range(len(number)):\n",
    "        model = tree.DecisionTreeClassifier(max_depth = max_depths[i])\n",
    "        clf = BaggingClassifier(base_estimator = model, n_estimators=number[j]).fit(x_train,y_train)\n",
    "        train_acc = clf.score(x_train,y_train)\n",
    "        test_acc = clf.score(x_test,y_test)\n",
    "        print('when maximum depths is {}, the number of tree is {}:'.format(max_depths[i],number[j]))\n",
    "        print('the train accuracy is {}, the test accuracy is {}'.format(train_acc,test_acc))"
   ]
  },
  {
   "cell_type": "code",
   "execution_count": 12,
   "id": "deb465c2",
   "metadata": {},
   "outputs": [
    {
     "name": "stdout",
     "output_type": "stream",
     "text": [
      "when m is 2, the number of tree is 5:\n",
      "the train accuracy is 1.0, the test accuracy is 1.0\n",
      "when m is 2, the number of tree is 10:\n",
      "the train accuracy is 1.0, the test accuracy is 1.0\n",
      "when m is 2, the number of tree is 15:\n",
      "the train accuracy is 1.0, the test accuracy is 1.0\n",
      "when m is 3, the number of tree is 5:\n",
      "the train accuracy is 0.9959839357429718, the test accuracy is 0.9880952380952381\n",
      "when m is 3, the number of tree is 10:\n",
      "the train accuracy is 0.9959839357429718, the test accuracy is 1.0\n",
      "when m is 3, the number of tree is 15:\n",
      "the train accuracy is 1.0, the test accuracy is 0.9880952380952381\n",
      "when m is 4, the number of tree is 5:\n",
      "the train accuracy is 1.0, the test accuracy is 0.9880952380952381\n",
      "when m is 4, the number of tree is 10:\n",
      "the train accuracy is 1.0, the test accuracy is 0.9880952380952381\n",
      "when m is 4, the number of tree is 15:\n",
      "the train accuracy is 0.9959839357429718, the test accuracy is 1.0\n"
     ]
    }
   ],
   "source": [
    "from sklearn.ensemble import RandomForestClassifier\n",
    "number=[5,10,15]\n",
    "m = [2,3,4]\n",
    "for i in range(len(m)):\n",
    "    for j in range(len(number)):\n",
    "        clf = RandomForestClassifier(n_estimators=number[j],min_samples_split=m[i]).fit(x_train,y_train)\n",
    "        train_acc = clf.score(x_train,y_train)\n",
    "        test_acc = clf.score(x_test,y_test)\n",
    "        print('when m is {}, the number of tree is {}:'.format(m[i],number[j]))\n",
    "        print('the train accuracy is {}, the test accuracy is {}'.format(train_acc,test_acc))"
   ]
  },
  {
   "cell_type": "code",
   "execution_count": 13,
   "id": "171d16b8",
   "metadata": {},
   "outputs": [
    {
     "data": {
      "image/png": "[encoded data removed]",
      "text/plain": [
       "<Figure size 720x288 with 2 Axes>"
      ]
     },
     "metadata": {
      "needs_background": "light"
     },
     "output_type": "display_data"
    }
   ],
   "source": [
    "from mlxtend.evaluate import bias_variance_decomp\n",
    "plt.figure(figsize=(10, 4)) \n",
    "number = np.arange(10,110,10)\n",
    "biases = []\n",
    "variances = []\n",
    "for i in range(len(number)):\n",
    "    clf = RandomForestClassifier(n_estimators=number[i]).fit(x_train,y_train)\n",
    "    avg_expected_loss, bias, var = bias_variance_decomp(clf, np.array(x_train), np.array(y_train), np.array(x_test), np.array(y_test), loss='0-1_loss',random_seed=123)\n",
    "    biases.append(bias)\n",
    "    variances.append(var)\n",
    "plt.subplot(121)\n",
    "plt.plot(number, biases)\n",
    "plt.ylabel('the square of bias')\n",
    "plt.xlabel('the number of tree')\n",
    "plt.subplot(122)\n",
    "plt.plot(number, variances)\n",
    "plt.ylabel('variances')\n",
    "plt.xlabel('the number of tree')\n",
    "plt.show()"
   ]
  }
 ],
 "metadata": {
  "kernelspec": {
   "display_name": "Python 3",
   "language": "python",
   "name": "python3"
  },
  "language_info": {
   "codemirror_mode": {
    "name": "ipython",
    "version": 3
   },
   "file_extension": ".py",
   "mimetype": "text/x-python",
   "name": "python",
   "nbconvert_exporter": "python",
   "pygments_lexer": "ipython3",
   "version": "3.8.8"
  }
 },
 "nbformat": 4,
 "nbformat_minor": 5
}
