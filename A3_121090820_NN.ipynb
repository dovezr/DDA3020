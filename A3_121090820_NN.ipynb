{
 "cells": [
  {
   "cell_type": "code",
   "execution_count": 2,
   "id": "aa1154ef",
   "metadata": {},
   "outputs": [],
   "source": [
    "import numpy as np\n",
    "import pandas as pd\n",
    "import matplotlib.pyplot as plt\n",
    "from sklearn import tree\n",
    "from sklearn.model_selection import train_test_split"
   ]
  },
  {
   "cell_type": "code",
   "execution_count": 4,
   "id": "171d16b8",
   "metadata": {},
   "outputs": [],
   "source": [
    "import warnings\n",
    "warnings.filterwarnings(\"ignore\")"
   ]
  },
  {
   "cell_type": "code",
   "execution_count": 153,
   "id": "33a6c351",
   "metadata": {},
   "outputs": [],
   "source": [
    "train = pd.read_csv(r\"C:\\Users\\86180\\Downloads\\train.csv\") \n",
    "test = pd.read_csv(r\"C:\\Users\\86180\\Downloads\\test.csv\") \n",
    "x_train = train[train.columns[2:786]]\n",
    "y_train = train['Category']\n",
    "x_test = test[test.columns[1:785]]\n",
    "y_test = test['label']"
   ]
  },
  {
   "cell_type": "code",
   "execution_count": 160,
   "id": "cc1c3fa2",
   "metadata": {},
   "outputs": [
    {
     "name": "stdout",
     "output_type": "stream",
     "text": [
      "When the number of hidden layers is 1,number of hidden nodes is 50,optimizers is adam\n",
      "the train accuracy is 0.8798166666666667, the test accuracy is 0.8406\n",
      "When the number of hidden layers is 2,number of hidden nodes is 50,optimizers is adam\n",
      "the train accuracy is 0.9058833333333334, the test accuracy is 0.8658\n",
      "When the number of hidden layers is 3,number of hidden nodes is 50,optimizers is adam\n",
      "the train accuracy is 0.9202333333333333, the test accuracy is 0.8733\n",
      "When the number of hidden layers is 1,number of hidden nodes is 50,optimizers is sgd\n",
      "the train accuracy is 0.4347, the test accuracy is 0.429\n",
      "When the number of hidden layers is 2,number of hidden nodes is 50,optimizers is sgd\n",
      "the train accuracy is 0.10001666666666667, the test accuracy is 0.1\n",
      "When the number of hidden layers is 3,number of hidden nodes is 50,optimizers is sgd\n",
      "the train accuracy is 0.1, the test accuracy is 0.1\n",
      "When the number of hidden layers is 1,number of hidden nodes is 200,optimizers is adam\n",
      "the train accuracy is 0.9131, the test accuracy is 0.8681\n",
      "When the number of hidden layers is 2,number of hidden nodes is 200,optimizers is adam\n",
      "the train accuracy is 0.9535833333333333, the test accuracy is 0.8864\n",
      "When the number of hidden layers is 3,number of hidden nodes is 200,optimizers is adam\n",
      "the train accuracy is 0.95885, the test accuracy is 0.8882\n",
      "When the number of hidden layers is 1,number of hidden nodes is 200,optimizers is sgd\n",
      "the train accuracy is 0.79505, the test accuracy is 0.7888\n",
      "When the number of hidden layers is 2,number of hidden nodes is 200,optimizers is sgd\n",
      "the train accuracy is 0.10005, the test accuracy is 0.1\n",
      "When the number of hidden layers is 3,number of hidden nodes is 200,optimizers is sgd\n",
      "the train accuracy is 0.1, the test accuracy is 0.1\n",
      "When the number of hidden layers is 1,number of hidden nodes is 784,optimizers is adam\n",
      "the train accuracy is 0.8952666666666667, the test accuracy is 0.8694\n",
      "When the number of hidden layers is 2,number of hidden nodes is 784,optimizers is adam\n",
      "the train accuracy is 0.9449666666666666, the test accuracy is 0.8853\n",
      "When the number of hidden layers is 3,number of hidden nodes is 784,optimizers is adam\n",
      "the train accuracy is 0.9801, the test accuracy is 0.8972\n",
      "When the number of hidden layers is 1,number of hidden nodes is 784,optimizers is sgd\n",
      "the train accuracy is 0.9346166666666667, the test accuracy is 0.8602\n",
      "When the number of hidden layers is 2,number of hidden nodes is 784,optimizers is sgd\n",
      "the train accuracy is 0.10006666666666666, the test accuracy is 0.1\n",
      "When the number of hidden layers is 3,number of hidden nodes is 784,optimizers is sgd\n",
      "the train accuracy is 0.1, the test accuracy is 0.1\n"
     ]
    }
   ],
   "source": [
    "from sklearn.neural_network import MLPClassifier\n",
    "nodes=[50,200,784]\n",
    "layers = [1,2,3]\n",
    "optimizers = ['adam','sgd']   \n",
    "for i in range(len(nodes)):\n",
    "    for t in optimizers:\n",
    "        clf = MLPClassifier(hidden_layer_sizes=(nodes[i]),solver=t,random_state=1).fit(x_train,y_train)\n",
    "        train_acc = clf.score(x_train,y_train)\n",
    "        test_acc = clf.score(x_test,y_test)\n",
    "        print('When the number of hidden layers is 1,number of hidden nodes is {},optimizers is {}'.format(nodes[i],t))\n",
    "        print('the train accuracy is {}, the test accuracy is {}'.format(train_acc,test_acc))\n",
    "        clf = MLPClassifier(hidden_layer_sizes=(nodes[i],nodes[i]),solver=t,random_state=1).fit(x_train,y_train)\n",
    "        train_acc = clf.score(x_train,y_train)\n",
    "        test_acc = clf.score(x_test,y_test)\n",
    "        print('When the number of hidden layers is 2,number of hidden nodes is {},optimizers is {}'.format(nodes[i],t))\n",
    "        print('the train accuracy is {}, the test accuracy is {}'.format(train_acc,test_acc))\n",
    "        clf = MLPClassifier(hidden_layer_sizes=(nodes[i],nodes[i],nodes[i]),solver=t,random_state=1).fit(x_train,y_train)\n",
    "        train_acc = clf.score(x_train,y_train)\n",
    "        test_acc = clf.score(x_test,y_test)\n",
    "        print('When the number of hidden layers is 3,number of hidden nodes is {},optimizers is {}'.format(nodes[i],t))\n",
    "        print('the train accuracy is {}, the test accuracy is {}'.format(train_acc,test_acc))"
   ]
  }
 ],
 "metadata": {
  "kernelspec": {
   "display_name": "Python 3",
   "language": "python",
   "name": "python3"
  },
  "language_info": {
   "codemirror_mode": {
    "name": "ipython",
    "version": 3
   },
   "file_extension": ".py",
   "mimetype": "text/x-python",
   "name": "python",
   "nbconvert_exporter": "python",
   "pygments_lexer": "ipython3",
   "version": "3.8.8"
  }
 },
 "nbformat": 4,
 "nbformat_minor": 5
}
